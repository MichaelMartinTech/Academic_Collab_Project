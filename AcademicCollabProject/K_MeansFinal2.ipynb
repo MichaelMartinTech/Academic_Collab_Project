{
  "cells": [
    {
      "cell_type": "code",
      "execution_count": null,
      "metadata": {
        "colab": {
          "base_uri": "https://localhost:8080/"
        },
        "id": "ZKI7fnlTvZei",
        "outputId": "020bb685-5601-4d43-d6a3-52196223312b"
      },
      "outputs": [
        {
          "name": "stdout",
          "output_type": "stream",
          "text": [
            "Mounted at /content/drive\n",
            "=== Step 1: Loading the TSV files ===\n",
            "Loaded datasets.\n",
            "      PaperId  PublishYear                                    NormalizedTitle  \\\n",
            "0  2162250601         2011                          visual object recognition   \n",
            "1  2912118192         2019        learning and decision making from rank data   \n",
            "2    50703724         2007  preparing future secondary computer science ed...   \n",
            "3   250824747         2002  demonstrating the potential for web based surv...   \n",
            "4   130379505         1998             creating a performance based classroom   \n",
            "\n",
            "      VenueId DetectedLanguage  DocType  EstimatedCitation  \n",
            "0   933803995     en@@@fa@@@ja  Journal                178  \n",
            "1   933803995               en  Journal                  0  \n",
            "2  2764343864               en  Journal                  2  \n",
            "3  2764343864               en  Journal                 92  \n",
            "4  2764343864               en  Journal                  0  \n",
            "   PaperSeqid  AuthorSeqid  AffiliationSeqid  AuthorSequenceNumber\n",
            "0  1963479517   2167258348       134161618.0                     2\n",
            "1  1963479517   2506097535       134161618.0                     3\n",
            "2  1963479517   2296113232       142823887.0                     1\n",
            "3  1963479629   2951973139       212119943.0                     4\n",
            "4  1963479629   2308752292        80693520.0                     3\n",
            "      PaperId  ReferenceId\n",
            "0  2001168787   1963479517\n",
            "1  2596237688   1963479517\n",
            "2  2127356063   1963479517\n",
            "3  2065786041   1963479517\n",
            "4  2733437658   1963479517\n"
          ]
        }
      ],
      "source": [
        "import pandas as pd\n",
        "import numpy as np\n",
        "from collections import defaultdict\n",
        "from sklearn.preprocessing import StandardScaler\n",
        "from sklearn.cluster import KMeans\n",
        "from sklearn.metrics import silhouette_score\n",
        "import matplotlib.pyplot as plt\n",
        "from tqdm import tqdm\n",
        "from sklearn.decomposition import PCA\n",
        "\n",
        "from google.colab import drive\n",
        "drive.mount(\"/content/drive\")\n",
        "\n",
        "base_path = '/content/drive/MyDrive/data/'\n",
        "papers_tsv = base_path + 'Papers_CS_20190919.tsv'\n",
        "authors_tsv = base_path + 'PAuAf_CS_20190919.tsv'\n",
        "citations_tsv = base_path + 'PR_CS_20190919.tsv'\n",
        "\n",
        "print(\"=== Step 1: Loading the TSV files ===\")\n",
        "papers_df = pd.read_csv(papers_tsv, sep=\"\\t\")\n",
        "papers_df.dropna(inplace=True)\n",
        "papers_df.reset_index(drop=True, inplace=True)\n",
        "\n",
        "authors_df = pd.read_csv(authors_tsv , sep=\"\\t\")\n",
        "authors_df.dropna(inplace=True)\n",
        "authors_df.reset_index(drop=True, inplace=True)\n",
        "\n",
        "citations_df = pd.read_csv(citations_tsv, sep=\"\\t\")\n",
        "citations_df.dropna(inplace=True)\n",
        "citations_df.reset_index(drop=True, inplace=True)\n",
        "\n",
        "print(\"Loaded datasets.\")\n",
        "print(papers_df.head())\n",
        "print(authors_df.head())\n",
        "print(citations_df.head())"
      ]
    },
    {
      "cell_type": "code",
      "execution_count": null,
      "metadata": {
        "colab": {
          "base_uri": "https://localhost:8080/"
        },
        "id": "JVS27UqUvaPZ",
        "outputId": "1276c30e-555a-4853-cce7-8352cf5ac454"
      },
      "outputs": [
        {
          "name": "stdout",
          "output_type": "stream",
          "text": [
            "\n",
            "=== Step 2: Preprocessing citation counts ===\n",
            "Building paper metadata.\n",
            "Metadata complete.\n"
          ]
        }
      ],
      "source": [
        "print(\"\\n=== Step 2: Preprocessing citation counts ===\")\n",
        "citation_count = defaultdict(int)\n",
        "for ref_id in citations_df[\"ReferenceId\"]:\n",
        "    citation_count[ref_id] += 1\n",
        "\n",
        "print(\"Building paper metadata.\")\n",
        "paper_meta = {}\n",
        "for _, row in papers_df.iterrows():\n",
        "    paper_id = row[\"PaperId\"]\n",
        "    year = row[\"PublishYear\"]\n",
        "    estimated_citation = row[\"EstimatedCitation\"]\n",
        "    paper_meta[paper_id] = (year, estimated_citation, citation_count.get(paper_id, 0))\n",
        "\n",
        "print(\"Metadata complete.\")\n"
      ]
    },
    {
      "cell_type": "code",
      "execution_count": null,
      "metadata": {
        "colab": {
          "base_uri": "https://localhost:8080/"
        },
        "id": "PwqBgC7fvpwJ",
        "outputId": "4ee80592-c9bb-46d3-e8fc-005e85035ae6"
      },
      "outputs": [
        {
          "name": "stdout",
          "output_type": "stream",
          "text": [
            "\n",
            "=== Step 3: Building author features ===\n",
            "Grouping paper authors.\n",
            "Calculating stats per author.\n"
          ]
        },
        {
          "name": "stderr",
          "output_type": "stream",
          "text": [
            "Processing authors: 100%|██████████| 3570851/3570851 [01:08<00:00, 51991.83it/s]\n"
          ]
        },
        {
          "name": "stdout",
          "output_type": "stream",
          "text": [
            "Converting author stats to DataFrame.\n",
            "Author DataFrame created.\n"
          ]
        }
      ],
      "source": [
        "print(\"\\n=== Step 3: Building author features ===\")\n",
        "author_stats = defaultdict(lambda: {\n",
        "    \"paper_count\": 0,\n",
        "    \"total_est_citations\": 0,\n",
        "    \"total_true_citations\": 0,\n",
        "    \"coauthors\": set(),\n",
        "    \"active_years\": set()\n",
        "})\n",
        "\n",
        "print(\"Grouping paper authors.\")\n",
        "paper_authors = defaultdict(list)\n",
        "for _, row in authors_df.iterrows():\n",
        "    paper_id = row[\"PaperSeqid\"]\n",
        "    author_id = row[\"AuthorSeqid\"]\n",
        "    paper_authors[paper_id].append(author_id)\n",
        "\n",
        "print(\"Calculating stats per author.\")\n",
        "for paper_id, authors in tqdm(paper_authors.items(), desc=\"Processing authors\"):\n",
        "    meta = paper_meta.get(paper_id)\n",
        "    if not meta:\n",
        "        continue\n",
        "    year, est_cite, true_cite = meta\n",
        "    for author in authors:\n",
        "        author_stats[author][\"paper_count\"] += 1\n",
        "        author_stats[author][\"total_est_citations\"] += est_cite\n",
        "        author_stats[author][\"total_true_citations\"] += true_cite\n",
        "        author_stats[author][\"coauthors\"].update(set(authors) - {author})\n",
        "        author_stats[author][\"active_years\"].add(year)\n",
        "\n",
        "print(\"Converting author stats to DataFrame.\")\n",
        "data = []\n",
        "for author, stats in author_stats.items():\n",
        "    data.append({\n",
        "        \"author_id\": author,\n",
        "        \"paper_count\": stats[\"paper_count\"],\n",
        "        \"avg_est_citations\": stats[\"total_est_citations\"] / stats[\"paper_count\"],\n",
        "        \"avg_true_citations\": stats[\"total_true_citations\"] / stats[\"paper_count\"],\n",
        "        \"unique_coauthors\": len(stats[\"coauthors\"]),\n",
        "        \"active_years\": len(stats[\"active_years\"])\n",
        "    })\n",
        "\n",
        "df = pd.DataFrame(data)\n",
        "print(\"Author DataFrame created.\")"
      ]
    },
    {
      "cell_type": "code",
      "execution_count": null,
      "metadata": {
        "colab": {
          "base_uri": "https://localhost:8080/"
        },
        "id": "xD-GKRSUvsXR",
        "outputId": "1f2710c9-0077-418e-e8c8-1ed85c89497a"
      },
      "outputs": [
        {
          "name": "stdout",
          "output_type": "stream",
          "text": [
            "\n",
            "=== Step 4: Normalizing features ===\n",
            "Features normalized.\n"
          ]
        }
      ],
      "source": [
        "print(\"\\n=== Step 4: Normalizing features ===\")\n",
        "features = [\"paper_count\", \"avg_est_citations\", \"avg_true_citations\", \"unique_coauthors\", \"active_years\"]\n",
        "X = df[features]\n",
        "scaler = StandardScaler()\n",
        "X_scaled = scaler.fit_transform(X)\n",
        "print(\"Features normalized.\")"
      ]
    },
    {
      "cell_type": "code",
      "execution_count": null,
      "metadata": {
        "colab": {
          "background_save": true,
          "base_uri": "https://localhost:8080/"
        },
        "id": "_xONLe5Svs_J",
        "outputId": "3c80d0d1-e4f7-4ecb-900e-a134b3b41ab5"
      },
      "outputs": [
        {
          "name": "stdout",
          "output_type": "stream",
          "text": [
            "\n",
            "=== Step 5: Elbow Method ===\n",
            "Fitting KMeans for k = 1...\n",
            "Fitting KMeans for k = 2...\n",
            "Fitting KMeans for k = 3...\n",
            "Fitting KMeans for k = 4...\n",
            "Fitting KMeans for k = 5...\n",
            "Fitting KMeans for k = 6...\n",
            "Fitting KMeans for k = 7...\n",
            "Fitting KMeans for k = 8...\n",
            "Fitting KMeans for k = 9...\n",
            "Fitting KMeans for k = 10...\n",
            "Fitting KMeans for k = 11...\n",
            "Fitting KMeans for k = 12...\n",
            "Fitting KMeans for k = 13...\n",
            "Fitting KMeans for k = 14...\n",
            "Fitting KMeans for k = 15...\n",
            "Fitting KMeans for k = 16...\n",
            "Fitting KMeans for k = 17...\n",
            "Fitting KMeans for k = 18...\n",
            "Fitting KMeans for k = 19...\n"
          ]
        },
        {
          "data": {
            "image/png": "[encoded data removed]",
            "text/plain": [
              "<Figure size 800x400 with 1 Axes>"
            ]
          },
          "metadata": {},
          "output_type": "display_data"
        }
      ],
      "source": [
        "print(\"\\n=== Step 5: Elbow Method ===\")\n",
        "inertias = []\n",
        "K_range = range(1, 20)\n",
        "\n",
        "for k in K_range:\n",
        "    print(f\"Fitting KMeans for k = {k}...\")\n",
        "    kmeans = KMeans(n_clusters=k, random_state=42)\n",
        "    kmeans.fit(X_scaled)\n",
        "    inertias.append(kmeans.inertia_)\n",
        "\n",
        "plt.figure(figsize=(8, 4))\n",
        "plt.plot(K_range, inertias, 'bo-')\n",
        "plt.xlabel(\"k (number of clusters)\")\n",
        "plt.ylabel(\"Inertia\")\n",
        "plt.title(\"Elbow Method\")\n",
        "plt.grid(True)\n",
        "plt.show()"
      ]
    },
    {
      "cell_type": "code",
      "execution_count": null,
      "metadata": {
        "id": "O14g9dXYvvhZ"
      },
      "outputs": [],
      "source": [
        "print(\"\\n=== Step 6: Final Clustering ===\")\n",
        "k = 7\n",
        "print(f\"Running KMeans with k = {k}...\")\n",
        "final_kmeans = KMeans(n_clusters=k, random_state=42)\n",
        "df[\"cluster\"] = final_kmeans.fit_predict(X_scaled)\n",
        "\n",
        "print(\"\\nSample authors with cluster labels:\")\n",
        "print(df[[\"author_id\", \"cluster\"]].head())\n",
        "\n",
        "print(\"Saving clustered data to CSV...\")\n",
        "df.to_csv(\"clustered_authors.csv\", index=False)\n",
        "\n",
        "print(\"\\n=== Step 6.5: Evaluating with Silhouette Score (on a sample) ===\")\n",
        "sample_size = min(100000, len(X_scaled))  # avoid going out of bounds\n",
        "X_sample = X_scaled[:sample_size]\n",
        "labels_sample = df[\"cluster\"].values[:sample_size]\n",
        "\n",
        "score = silhouette_score(X_sample, labels_sample, metric='euclidean')\n",
        "print(f\"Silhouette Score (on sample of {sample_size}): {score:.4f}\")"
      ]
    },
    {
      "cell_type": "code",
      "execution_count": null,
      "metadata": {
        "id": "HuEIPISFvTmq"
      },
      "outputs": [],
      "source": [
        "print(\"\\n=== Step 7: Visualizing Clusters with PCA ===\")\n",
        "pca = PCA(n_components=2)\n",
        "X_pca = pca.fit_transform(X_scaled)\n",
        "\n",
        "plt.figure(figsize=(8, 6))\n",
        "scatter = plt.scatter(X_pca[:, 0], X_pca[:, 1], c=df[\"cluster\"], cmap='tab10', alpha=0.6)\n",
        "plt.title(\"K-Means Clusters (PCA 2D Projection)\")\n",
        "plt.xlabel(\"PCA 1\")\n",
        "plt.ylabel(\"PCA 2\")\n",
        "plt.colorbar(scatter, label=\"Cluster\")\n",
        "plt.grid(True)\n",
        "plt.show()\n",
        "\n",
        "print(\"All steps complete.\")\n"
      ]
    },
    {
      "cell_type": "code",
      "execution_count": null,
      "metadata": {
        "id": "11RzaP7x03A8"
      },
      "outputs": [],
      "source": [
        "fig.savefig(\"pca_clusters.png\", dpi=300, bbox_inches='tight')\n"
      ]
    },
    {
      "cell_type": "code",
      "execution_count": null,
      "metadata": {
        "id": "tqvV-YY_q4Qn"
      },
      "outputs": [],
      "source": [
        "print(\"\\n=== Step 8: Cluster Interpretation ===\")\n",
        "\n",
        "# 1. Cluster sizes\n",
        "cluster_counts = df[\"cluster\"].value_counts().sort_index()\n",
        "print(\"Cluster Sizes:\")\n",
        "print(cluster_counts)\n",
        "\n",
        "# 2. Mean feature values per cluster\n",
        "features = [\"paper_count\", \"avg_est_citations\", \"avg_true_citations\", \"unique_coauthors\", \"active_years\"]\n",
        "# Extract unscaled feature values\n",
        "features_df = df[features].copy()\n",
        "features_df[\"cluster\"] = df[\"cluster\"]\n",
        "cluster_profiles = features_df.groupby(\"cluster\").mean()\n",
        "print(\"\\nCluster Profiles (mean feature values):\")\n",
        "print(cluster_profiles)\n",
        "\n",
        "# 3. Save cluster profiles to CSV\n",
        "cluster_profiles.to_csv(\"cluster_profiles.csv\")\n",
        "print(\"Cluster profiles saved to cluster_profiles.csv\")\n",
        "\n",
        "# Project cluster centers onto the PCA axes:\n",
        "try:\n",
        "    centers_pca = pca.transform(final_kmeans.cluster_centers_)\n",
        "    centers_df = pd.DataFrame(centers_pca, columns=[\"PC1\", \"PC2\"]).reset_index().rename(columns={\"index\":\"cluster\"})\n",
        "    print(\"\\nPCA Cluster Centers:\")\n",
        "    print(centers_df)\n",
        "    centers_df.to_csv(\"pca_cluster_centers.csv\", index=False)\n",
        "    print(\"PCA cluster centers saved to pca_cluster_centers.csv\")\n",
        "except NameError:\n",
        "    pass\n"
      ]
    }
  ],
  "metadata": {
    "colab": {
      "provenance": []
    },
    "kernelspec": {
      "display_name": "Python 3",
      "name": "python3"
    },
    "language_info": {
      "name": "python"
    }
  },
  "nbformat": 4,
  "nbformat_minor": 0
}